{
 "cells": [
  {
   "cell_type": "markdown",
   "id": "2d0939cc-0b9f-48a2-bbaf-ec1385ec4384",
   "metadata": {},
   "source": [
    "# Sort an array 0's, 1's, and 2's"
   ]
  },
  {
   "cell_type": "code",
   "execution_count": 1,
   "id": "519bdc15-613b-4eed-8636-729579e3b35e",
   "metadata": {},
   "outputs": [
    {
     "name": "stdout",
     "output_type": "stream",
     "text": [
      "[0, 0, 1, 1, 2, 2]\n",
      "sorted: [0, 0, 1, 1, 2, 2]\n"
     ]
    }
   ],
   "source": [
    "class Solution:\n",
    "    \n",
    "    def __str__(self):\n",
    "         for element in self.sorted_array: \n",
    "            print(element, end = \"\")\n",
    "            \n",
    "            \n",
    "    # Function to sort an array of 0s, 1s, and 2s\n",
    "    def sort012(self, arr):\n",
    "        \n",
    "        for i in range(len(arr)):\n",
    "            element = arr[i]\n",
    "\n",
    "            while(True):\n",
    "                \n",
    "                if element == 0:\n",
    "                    del arr[i]\n",
    "                    arr.insert(0, element)\n",
    "\n",
    "                elif element == 2:\n",
    "                    del arr[i]\n",
    "                    arr.append(element)\n",
    "                \n",
    "                else:\n",
    "                    break\n",
    "\n",
    "                # don't try again if we're at the beginning or end of an array\n",
    "                if(i == 0 or i == len(arr) - 1 or i == len(arr) - 2):\n",
    "                    break\n",
    "\n",
    "                element = arr[i]\n",
    "\n",
    "        print(arr)\n",
    "        return arr\n",
    "\n",
    "solution = Solution()\n",
    "\n",
    "sorted_array = solution.sort012([0, 1, 2, 0, 1, 2])\n",
    "\n",
    "print(f\"sorted: {sorted_array}\")\n",
    "\n",
    "       "
   ]
  },
  {
   "cell_type": "code",
   "execution_count": null,
   "id": "2cb6f930-d079-495c-ada3-e31541022963",
   "metadata": {},
   "outputs": [],
   "source": []
  }
 ],
 "metadata": {
  "kernelspec": {
   "display_name": "Python 3 (ipykernel)",
   "language": "python",
   "name": "python3"
  },
  "language_info": {
   "codemirror_mode": {
    "name": "ipython",
    "version": 3
   },
   "file_extension": ".py",
   "mimetype": "text/x-python",
   "name": "python",
   "nbconvert_exporter": "python",
   "pygments_lexer": "ipython3",
   "version": "3.12.7"
  }
 },
 "nbformat": 4,
 "nbformat_minor": 5
}
