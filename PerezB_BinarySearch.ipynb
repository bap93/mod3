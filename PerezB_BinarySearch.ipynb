{
 "cells": [
  {
   "cell_type": "markdown",
   "id": "c6a3de6c-b3f5-416c-89ea-2acedb546f5e",
   "metadata": {},
   "source": [
    "# Binary Search"
   ]
  },
  {
   "cell_type": "code",
   "execution_count": 2,
   "id": "ed5d5821-556d-46bd-85fb-5a6f6e4f3058",
   "metadata": {},
   "outputs": [],
   "source": [
    "class Solution:\n",
    "    def binarysearch(self, arr, k):\n",
    "        \n",
    "        left = 0\n",
    "        right = len(arr) - 1\n",
    "        position = -1\n",
    "        \n",
    "        while left <= right:\n",
    "            mid = left + (right - left) // 2\n",
    "            \n",
    "            if arr[mid] == k:\n",
    "                 position = mid\n",
    "                 right = mid - 1\n",
    "                \n",
    "            elif arr[mid] < k:\n",
    "                left = mid + 1\n",
    "                \n",
    "            else: \n",
    "                right = mid - 1\n",
    "        \n",
    "        return position"
   ]
  },
  {
   "cell_type": "markdown",
   "id": "f0846f01-65a2-42ad-a4b9-48b3608d80e3",
   "metadata": {},
   "source": [
    "Output window testing results:"
   ]
  },
  {
   "cell_type": "code",
   "execution_count": null,
   "id": "46577293-3bdc-4447-8a22-4f55d378e8e4",
   "metadata": {},
   "outputs": [],
   "source": [
    "Compilation Completed\n",
    "For Input: \n",
    "4\n",
    "1 2 3 4 5\n",
    "Your Output: \n",
    "3\n",
    "Expected Output: \n",
    "3"
   ]
  }
 ],
 "metadata": {
  "kernelspec": {
   "display_name": "Python 3 (ipykernel)",
   "language": "python",
   "name": "python3"
  },
  "language_info": {
   "codemirror_mode": {
    "name": "ipython",
    "version": 3
   },
   "file_extension": ".py",
   "mimetype": "text/x-python",
   "name": "python",
   "nbconvert_exporter": "python",
   "pygments_lexer": "ipython3",
   "version": "3.12.7"
  }
 },
 "nbformat": 4,
 "nbformat_minor": 5
}
